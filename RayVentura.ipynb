{
  "cells": [
    {
      "cell_type": "markdown",
      "metadata": {
        "id": "view-in-github",
        "colab_type": "text"
      },
      "source": [
        "<a href=\"https://colab.research.google.com/github/Junin135/Costablle/blob/main/RayVentura.ipynb\" target=\"_parent\"><img src=\"https://colab.research.google.com/assets/colab-badge.svg\" alt=\"Open In Colab\"/></a>"
      ]
    },
    {
      "cell_type": "code",
      "execution_count": null,
      "metadata": {
        "id": "BCeoqX8uObZq"
      },
      "outputs": [],
      "source": [
        "# 📦 Install ImageMagick and ffmpeg\n",
        "!sudo apt-get install imagemagick\n",
        "!sudo apt-get install ffmpeg\n",
        "\n",
        "# 📝 Fix Imagemagick policy.xml bug in linux using MoviePy\n",
        "!sed -i '/<policy domain=\"path\" rights=\"none\" pattern=\"@\\*\"/d' /etc/ImageMagick-6/policy.xml\n",
        "\n",
        "import os\n",
        "\n",
        "if not os.path.exists('/content/ShortGPT'):\n",
        "  # 📂 Clone the ShortGPT repository\n",
        "  !git clone https://github.com/RayVentura/ShortGPT.git\n",
        "  %cd /content/ShortGPT/\n",
        "else:\n",
        "  %cd /content/ShortGPT/\n",
        "  # If the directory already exists, just pull the latest version\n",
        "  !git pull\n",
        "# 🚀 Change directory to ShortGPT\n",
        "\n",
        "# 🛠️ Install required Python packages\n",
        "!pip install -r requirements.txt\n",
        "!python runShortGPTColab.py"
      ]
    }
  ],
  "metadata": {
    "colab": {
      "provenance": [],
      "include_colab_link": true
    },
    "kernelspec": {
      "display_name": "Python 3",
      "name": "python3"
    },
    "language_info": {
      "name": "python"
    }
  },
  "nbformat": 4,
  "nbformat_minor": 0
}